{
 "cells": [
  {
   "cell_type": "markdown",
   "id": "d38f1e45-035a-43ac-b80c-3ba6f550a5c7",
   "metadata": {},
   "source": [
    "# Data Science Tools and Ecosystem"
   ]
  },
  {
   "cell_type": "markdown",
   "id": "c637f9f8-b5ae-4b05-84dd-1dfea572d1db",
   "metadata": {},
   "source": [
    "In this notebook, Data Science Tools and Ecosystem are summarized."
   ]
  },
  {
   "cell_type": "markdown",
   "id": "14acdcc3-75e1-46f9-a3c7-f1733b5b1cc5",
   "metadata": {},
   "source": [
    "**Objectives:**\n",
    "\n",
    "List popular languages for Data Science are \n",
    "\n",
    "C \n",
    "C++   \n",
    "Python     \n",
    "R    \n",
    "SQL     \n",
    "Java"
   ]
  },
  {
   "cell_type": "markdown",
   "id": "6e8a11a8-c713-4450-b1e5-53c9d3bf37d1",
   "metadata": {},
   "source": [
    "Some of the popular languages that Data Scientists use are:\n",
    "* Python\n",
    "* R\n",
    "* Julia\n",
    "  "
   ]
  },
  {
   "cell_type": "markdown",
   "id": "7d4d6014-bb15-4d5e-8b2e-3d24ed9e621b",
   "metadata": {},
   "source": [
    "Some of the commonly used libraries used by Data Scientists include:\n",
    "* Pandas\n",
    "* Matplotlib\n",
    "* numpy\n",
    "  "
   ]
  },
  {
   "cell_type": "markdown",
   "id": "8fb8a741-7e7c-436a-90b0-c0a8c06b9eb5",
   "metadata": {},
   "source": [
    "\n",
    "|Data Science Tools|\n",
    "| ----------------- |\n",
    "| Python |\n",
    "| R |\n",
    "| Apache Spark| \n",
    "| Apache |\n"
   ]
  },
  {
   "cell_type": "markdown",
   "id": "864b2d88-812f-489d-97b5-8b77e86e715e",
   "metadata": {},
   "source": [
    "### Below are a few examples of evaluating arithmetic expressions in Python"
   ]
  },
  {
   "cell_type": "code",
   "execution_count": 3,
   "id": "b6c853af-e8ea-4417-bcea-ba706acc1e43",
   "metadata": {},
   "outputs": [
    {
     "data": {
      "text/plain": [
       "17"
      ]
     },
     "execution_count": 3,
     "metadata": {},
     "output_type": "execute_result"
    }
   ],
   "source": [
    "# This a simple arithmetic expression to mutiply then add integers\n",
    "(3*4)+5"
   ]
  },
  {
   "cell_type": "code",
   "execution_count": 4,
   "id": "82ca7d96-5d40-45e2-9f1b-f46d5045ec00",
   "metadata": {},
   "outputs": [
    {
     "data": {
      "text/plain": [
       "3.3333333333333335"
      ]
     },
     "execution_count": 4,
     "metadata": {},
     "output_type": "execute_result"
    }
   ],
   "source": [
    "# This will convert 200 minutes to hours by diving by 60\n",
    "200/60"
   ]
  },
  {
   "cell_type": "markdown",
   "id": "bc588f49-007c-4e2b-914d-d6853efed5e0",
   "metadata": {},
   "source": [
    "## Author: Daniela Soto M. "
   ]
  },
  {
   "cell_type": "code",
   "execution_count": null,
   "id": "952333d7-a5f8-4577-bd3b-3ab9ddd57880",
   "metadata": {},
   "outputs": [],
   "source": []
  }
 ],
 "metadata": {
  "kernelspec": {
   "display_name": "Python 3 (ipykernel)",
   "language": "python",
   "name": "python3"
  },
  "language_info": {
   "codemirror_mode": {
    "name": "ipython",
    "version": 3
   },
   "file_extension": ".py",
   "mimetype": "text/x-python",
   "name": "python",
   "nbconvert_exporter": "python",
   "pygments_lexer": "ipython3",
   "version": "3.12.7"
  }
 },
 "nbformat": 4,
 "nbformat_minor": 5
}
